{
  "nbformat": 4,
  "nbformat_minor": 0,
  "metadata": {
    "kernelspec": {
      "display_name": "Python 3",
      "language": "python",
      "name": "python3"
    },
    "language_info": {
      "codemirror_mode": {
        "name": "ipython",
        "version": 3
      },
      "file_extension": ".py",
      "mimetype": "text/x-python",
      "name": "python",
      "nbconvert_exporter": "python",
      "pygments_lexer": "ipython3",
      "version": "3.7.6"
    },
    "colab": {
      "name": "Shopify_Technical_Challenge_Submission.ipynb",
      "provenance": [],
      "collapsed_sections": []
    }
  },
  "cells": [
    {
      "cell_type": "markdown",
      "metadata": {
        "id": "GLOOZC_dSWBS"
      },
      "source": [
        "# Q1\n",
        "## a\n"
      ]
    },
    {
      "cell_type": "code",
      "metadata": {
        "id": "p8_6JTQHSWBT"
      },
      "source": [
        "import pandas as pd\n",
        "import matplotlib.pyplot as plt \n",
        "data = pd.read_excel(\"2019 Winter Data Science Intern Challenge Data Set.xlsx\")"
      ],
      "execution_count": null,
      "outputs": []
    },
    {
      "cell_type": "markdown",
      "metadata": {
        "id": "W9sAM9YgWJ2O"
      },
      "source": [
        "Check the order amount information first."
      ]
    },
    {
      "cell_type": "code",
      "metadata": {
        "colab": {
          "base_uri": "https://localhost:8080/"
        },
        "id": "56XlUXFWSWBU",
        "outputId": "333c9fbe-116e-40f7-80c0-20cbb5f64e37"
      },
      "source": [
        "data.order_amount.describe()"
      ],
      "execution_count": null,
      "outputs": [
        {
          "output_type": "execute_result",
          "data": {
            "text/plain": [
              "count      5000.000000\n",
              "mean       3145.128000\n",
              "std       41282.539349\n",
              "min          90.000000\n",
              "25%         163.000000\n",
              "50%         284.000000\n",
              "75%         390.000000\n",
              "max      704000.000000\n",
              "Name: order_amount, dtype: float64"
            ]
          },
          "metadata": {},
          "execution_count": 65
        }
      ]
    },
    {
      "cell_type": "code",
      "source": [
        "plt.hist(data.order_amount,density=1)\n",
        "plt.xlabel('order amount')\n",
        "plt.ylabel('Probability')\n",
        "plt.title('Histgram of order amount')\n",
        "plt.show()"
      ],
      "metadata": {
        "colab": {
          "base_uri": "https://localhost:8080/",
          "height": 294
        },
        "id": "saR3_ltSKA9O",
        "outputId": "83130275-e808-45c5-d309-6fe9cd1ce554"
      },
      "execution_count": null,
      "outputs": [
        {
          "output_type": "display_data",
          "data": {
            "image/png": "[encoded data removed]",
            "text/plain": [
              "<Figure size 432x288 with 1 Axes>"
            ]
          },
          "metadata": {
            "needs_background": "light"
          }
        }
      ]
    },
    {
      "cell_type": "markdown",
      "metadata": {
        "id": "r7ubWRA4SWBV"
      },
      "source": [
        "Since the standard deviation of the order amount is as high as \\$41282 and 75% of the order amount is not greater than \\$390, the AOV of \\$3145.13 might be affected by the outliers like \\$704000. "
      ]
    },
    {
      "cell_type": "markdown",
      "metadata": {
        "id": "ZSBAXUikWTrD"
      },
      "source": [
        "Then check the total items to find the relationship between order amount and total items."
      ]
    },
    {
      "cell_type": "code",
      "metadata": {
        "colab": {
          "base_uri": "https://localhost:8080/"
        },
        "id": "iBika8rASWBW",
        "outputId": "feb2d76b-cdb8-4d1d-b4d5-0b2076e65a9b"
      },
      "source": [
        "data.total_items.describe()"
      ],
      "execution_count": null,
      "outputs": [
        {
          "output_type": "execute_result",
          "data": {
            "text/plain": [
              "count    5000.00000\n",
              "mean        8.78720\n",
              "std       116.32032\n",
              "min         1.00000\n",
              "25%         1.00000\n",
              "50%         2.00000\n",
              "75%         3.00000\n",
              "max      2000.00000\n",
              "Name: total_items, dtype: float64"
            ]
          },
          "metadata": {},
          "execution_count": 67
        }
      ]
    },
    {
      "cell_type": "code",
      "source": [
        "plt.hist(data.total_items,density=1)\n",
        "plt.xlabel('order amount')\n",
        "plt.ylabel('Probability')\n",
        "plt.title('Histgram of order amount')\n",
        "plt.show()"
      ],
      "metadata": {
        "colab": {
          "base_uri": "https://localhost:8080/",
          "height": 294
        },
        "id": "cEC3PGq8LhRg",
        "outputId": "ddfc8d77-59d8-4488-b05c-28d13f7f3289"
      },
      "execution_count": null,
      "outputs": [
        {
          "output_type": "display_data",
          "data": {
            "image/png": "[encoded data removed]",
            "text/plain": [
              "<Figure size 432x288 with 1 Axes>"
            ]
          },
          "metadata": {
            "needs_background": "light"
          }
        }
      ]
    },
    {
      "cell_type": "markdown",
      "metadata": {
        "id": "960_hDGnSWBW"
      },
      "source": [
        "The outliers of order amount like \\$704000 could be result from large orders with 2000 items."
      ]
    },
    {
      "cell_type": "markdown",
      "metadata": {
        "id": "Cm3asAJmWVjC"
      },
      "source": [
        "Plot the orders(total items, order amount) to find the distribution and outliers."
      ]
    },
    {
      "cell_type": "code",
      "metadata": {
        "colab": {
          "base_uri": "https://localhost:8080/",
          "height": 294
        },
        "id": "ha5i1In9SWBW",
        "outputId": "58903e71-fb07-48e6-a048-b1959e05a941"
      },
      "source": [
        "plt.scatter(data.total_items, data.order_amount)\n",
        "plt.xlabel('total items')\n",
        "plt.ylabel('order amount')\n",
        "plt.title(\"Distribution of total items and order amount\")\n",
        "plt.show()"
      ],
      "execution_count": null,
      "outputs": [
        {
          "output_type": "display_data",
          "data": {
            "image/png": "[encoded data removed]",
            "text/plain": [
              "<Figure size 432x288 with 1 Axes>"
            ]
          },
          "metadata": {
            "needs_background": "light"
          }
        }
      ]
    },
    {
      "cell_type": "markdown",
      "metadata": {
        "id": "IoMdbcfnSWBX"
      },
      "source": [
        "According to the scatter plot of items and amount of each order, we can see that there are some orders with 2000 items and large amount, which made the AOV of \\$3145.13 unreasonable.\n",
        "\n",
        "In addition, for most orders with less items, we found two linear relationships between order amount and total items, the upper line represents expensive shoes that one item can cost over $20,000 and the lower line represents cheaper shoes that cost around hundreds dollars each item.\n"
      ]
    },
    {
      "cell_type": "code",
      "source": [
        "plt.scatter(data[data.total_items<250].total_items, data[data.total_items<250].order_amount)\n",
        "plt.xlabel('total items')\n",
        "plt.ylabel('order amount')\n",
        "plt.title(\"Distribution of total items and order amount for orders with less items\")\n",
        "plt.show()"
      ],
      "metadata": {
        "colab": {
          "base_uri": "https://localhost:8080/",
          "height": 294
        },
        "id": "LwUoKm06M7Nl",
        "outputId": "77176355-5fe3-4f9e-ee92-b380cba50dea"
      },
      "execution_count": null,
      "outputs": [
        {
          "output_type": "display_data",
          "data": {
            "image/png": "[encoded data removed]",
            "text/plain": [
              "<Figure size 432x288 with 1 Axes>"
            ]
          },
          "metadata": {
            "needs_background": "light"
          }
        }
      ]
    },
    {
      "cell_type": "markdown",
      "source": [
        "All in all, the problem of the calculation of AOV of \\$3145.13 is that there are two types of outliers in order amount distribution: orders with large amount of items and orders with expensive items. A better way to evaluate AOV is trimmed mean of order value that removes a small designated percentage of the largest and smallest values before calculating the mean, which helps eliminate the influence of outliers. For this data, the 10% trimmed mean of order value is \\$287.39."
      ],
      "metadata": {
        "id": "6UfCRmfxYyTx"
      }
    },
    {
      "cell_type": "markdown",
      "metadata": {
        "id": "5-IR7qSVSWBX"
      },
      "source": [
        "## b"
      ]
    },
    {
      "cell_type": "markdown",
      "metadata": {
        "id": "vQyl5lLbSWBX"
      },
      "source": [
        "The metric I would report for this dataset is central tendency (trimmed mean, median and mode), which can be used for analysis in together and help eliminate the influence of outliers."
      ]
    },
    {
      "cell_type": "markdown",
      "metadata": {
        "id": "5s0eL9zTSWBX"
      },
      "source": [
        "## c"
      ]
    },
    {
      "cell_type": "code",
      "metadata": {
        "id": "vK1Nav2gSWBX",
        "outputId": "03e3c11b-b61b-4206-f1a5-2d0638c8ba2b",
        "colab": {
          "base_uri": "https://localhost:8080/"
        }
      },
      "source": [
        "from scipy import stats\n",
        "stats.trim_mean(data.order_amount, 0.1)"
      ],
      "execution_count": null,
      "outputs": [
        {
          "output_type": "execute_result",
          "data": {
            "text/plain": [
              "287.39075"
            ]
          },
          "metadata": {},
          "execution_count": 60
        }
      ]
    },
    {
      "cell_type": "code",
      "source": [
        "data.order_amount.describe()"
      ],
      "metadata": {
        "colab": {
          "base_uri": "https://localhost:8080/"
        },
        "id": "y5fRPE14JtzT",
        "outputId": "0d98ea4c-8fa3-4ab3-9da5-a182eea81a6c"
      },
      "execution_count": null,
      "outputs": [
        {
          "output_type": "execute_result",
          "data": {
            "text/plain": [
              "count      5000.000000\n",
              "mean       3145.128000\n",
              "std       41282.539349\n",
              "min          90.000000\n",
              "25%         163.000000\n",
              "50%         284.000000\n",
              "75%         390.000000\n",
              "max      704000.000000\n",
              "Name: order_amount, dtype: float64"
            ]
          },
          "metadata": {},
          "execution_count": 63
        }
      ]
    },
    {
      "cell_type": "code",
      "source": [
        "data.order_amount.mode()[0]"
      ],
      "metadata": {
        "colab": {
          "base_uri": "https://localhost:8080/"
        },
        "id": "0Y_EQpQKJmVR",
        "outputId": "59241522-cdf1-4c71-cd86-0c8a9e85be74"
      },
      "execution_count": null,
      "outputs": [
        {
          "output_type": "execute_result",
          "data": {
            "text/plain": [
              "153"
            ]
          },
          "metadata": {},
          "execution_count": 62
        }
      ]
    },
    {
      "cell_type": "markdown",
      "metadata": {
        "id": "-uf4_agESWBX"
      },
      "source": [
        "The value of 10% trimmed mean of order value is \\$287.39, median is \\$284 and mode is \\$153."
      ]
    },
    {
      "cell_type": "markdown",
      "metadata": {
        "id": "zYq8CImISWBY"
      },
      "source": [
        "# Q2"
      ]
    },
    {
      "cell_type": "markdown",
      "metadata": {
        "id": "KoPxAx29SWBY"
      },
      "source": [
        "## a"
      ]
    },
    {
      "cell_type": "markdown",
      "metadata": {
        "id": "ct7Ot2aKSWBY"
      },
      "source": [
        "SELECT COUNT(OrderID)\n",
        "\n",
        "FROM Orders JOIN Shippers ON Orders.ShipperID = Shippers.ShipperID\n",
        "\n",
        "WHERE Shippers.ShipperName = \"Speedy Express\";"
      ]
    },
    {
      "cell_type": "markdown",
      "metadata": {
        "id": "9BKFQS9tSWBY"
      },
      "source": [
        "**output:**\n",
        "\n",
        "54"
      ]
    },
    {
      "cell_type": "markdown",
      "metadata": {
        "id": "8vGRrJqHSWBY"
      },
      "source": [
        "## b"
      ]
    },
    {
      "cell_type": "markdown",
      "metadata": {
        "id": "-DeXBUVUSWBY"
      },
      "source": [
        "SELECT Employees.LastName, COUNT(Orders.OrderID) AS OrderNum\n",
        "\n",
        "FROM Orders JOIN Employees ON Orders.EmployeeID = Employees.EmployeeID\n",
        "\n",
        "GROUP BY Employees.LastName \n",
        "\n",
        "ORDER BY OrderNum DESC\n",
        "\n",
        "LIMIT 1;"
      ]
    },
    {
      "cell_type": "markdown",
      "metadata": {
        "id": "3KNh-5QiSWBY"
      },
      "source": [
        "**output:**\n",
        "\n",
        "Peacock."
      ]
    },
    {
      "cell_type": "markdown",
      "metadata": {
        "id": "myqVdiwDSWBZ"
      },
      "source": [
        "## c"
      ]
    },
    {
      "cell_type": "markdown",
      "metadata": {
        "id": "4H1V5mW0SWBZ"
      },
      "source": [
        "SELECT Products.ProductName, SUM(OrderDetails.Quantity) AS OrderQuantity\n",
        "\n",
        "FROM Orders JOIN Customers ON Orders.CustomerID = Customers.CustomerID \n",
        "\n",
        "JOIN OrderDetails ON OrderDetails.OrderID = Orders.OrderID \n",
        "\n",
        "JOIN Products ON Products.ProductID = OrderDetails.ProductID \n",
        "\n",
        "WHERE Customers.Country = 'Germany'\n",
        "\n",
        "GROUP BY OrderDetails.ProductID\n",
        "\n",
        "ORDER BY OrderQuantity DESC\n",
        "\n",
        "LIMIT 1;\n"
      ]
    },
    {
      "cell_type": "markdown",
      "metadata": {
        "id": "JebAMKu-SWBZ"
      },
      "source": [
        "**output:**\n",
        "\n",
        "Boston Crab Meat."
      ]
    },
    {
      "cell_type": "code",
      "source": [
        ""
      ],
      "metadata": {
        "id": "QXVq8GqLLPVK"
      },
      "execution_count": null,
      "outputs": []
    }
  ]
}