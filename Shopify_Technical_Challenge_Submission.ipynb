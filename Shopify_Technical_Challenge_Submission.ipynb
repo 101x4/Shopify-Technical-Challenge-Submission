{
  "nbformat": 4,
  "nbformat_minor": 0,
  "metadata": {
    "kernelspec": {
      "display_name": "Python 3",
      "language": "python",
      "name": "python3"
    },
    "language_info": {
      "codemirror_mode": {
        "name": "ipython",
        "version": 3
      },
      "file_extension": ".py",
      "mimetype": "text/x-python",
      "name": "python",
      "nbconvert_exporter": "python",
      "pygments_lexer": "ipython3",
      "version": "3.7.6"
    },
    "colab": {
      "name": "Shopify_Technical_Challenge_Submission.ipynb",
      "provenance": [],
      "collapsed_sections": []
    }
  },
  "cells": [
    {
      "cell_type": "markdown",
      "metadata": {
        "id": "GLOOZC_dSWBS"
      },
      "source": [
        "# Q1\n",
        "\n"
      ]
    },
    {
      "cell_type": "code",
      "metadata": {
        "id": "p8_6JTQHSWBT"
      },
      "source": [
        "import pandas as pd\n",
        "import matplotlib.pyplot as plt"
      ],
      "execution_count": 1,
      "outputs": []
    },
    {
      "cell_type": "markdown",
      "metadata": {
        "id": "W9sAM9YgWJ2O"
      },
      "source": [
        "## Exploratory Data Analysis"
      ]
    },
    {
      "cell_type": "code",
      "source": [
        "# load data\n",
        "data = pd.read_excel(\"2019 Winter Data Science Intern Challenge Data Set.xlsx\")\n",
        "data.describe()"
      ],
      "metadata": {
        "colab": {
          "base_uri": "https://localhost:8080/",
          "height": 300
        },
        "id": "b1n3k4U9Z5mE",
        "outputId": "b827f210-109d-484b-f01f-ac94508aaabd"
      },
      "execution_count": 2,
      "outputs": [
        {
          "output_type": "execute_result",
          "data": {
            "text/html": [
              "\n",
              "  <div id=\"df-13cf32fb-0062-4c50-9eac-43fbd6ea68ad\">\n",
              "    <div class=\"colab-df-container\">\n",
              "      <div>\n",
              "<style scoped>\n",
              "    .dataframe tbody tr th:only-of-type {\n",
              "        vertical-align: middle;\n",
              "    }\n",
              "\n",
              "    .dataframe tbody tr th {\n",
              "        vertical-align: top;\n",
              "    }\n",
              "\n",
              "    .dataframe thead th {\n",
              "        text-align: right;\n",
              "    }\n",
              "</style>\n",
              "<table border=\"1\" class=\"dataframe\">\n",
              "  <thead>\n",
              "    <tr style=\"text-align: right;\">\n",
              "      <th></th>\n",
              "      <th>order_id</th>\n",
              "      <th>shop_id</th>\n",
              "      <th>user_id</th>\n",
              "      <th>order_amount</th>\n",
              "      <th>total_items</th>\n",
              "    </tr>\n",
              "  </thead>\n",
              "  <tbody>\n",
              "    <tr>\n",
              "      <th>count</th>\n",
              "      <td>5000.000000</td>\n",
              "      <td>5000.000000</td>\n",
              "      <td>5000.000000</td>\n",
              "      <td>5000.000000</td>\n",
              "      <td>5000.00000</td>\n",
              "    </tr>\n",
              "    <tr>\n",
              "      <th>mean</th>\n",
              "      <td>2500.500000</td>\n",
              "      <td>50.078800</td>\n",
              "      <td>849.092400</td>\n",
              "      <td>3145.128000</td>\n",
              "      <td>8.78720</td>\n",
              "    </tr>\n",
              "    <tr>\n",
              "      <th>std</th>\n",
              "      <td>1443.520003</td>\n",
              "      <td>29.006118</td>\n",
              "      <td>87.798982</td>\n",
              "      <td>41282.539349</td>\n",
              "      <td>116.32032</td>\n",
              "    </tr>\n",
              "    <tr>\n",
              "      <th>min</th>\n",
              "      <td>1.000000</td>\n",
              "      <td>1.000000</td>\n",
              "      <td>607.000000</td>\n",
              "      <td>90.000000</td>\n",
              "      <td>1.00000</td>\n",
              "    </tr>\n",
              "    <tr>\n",
              "      <th>25%</th>\n",
              "      <td>1250.750000</td>\n",
              "      <td>24.000000</td>\n",
              "      <td>775.000000</td>\n",
              "      <td>163.000000</td>\n",
              "      <td>1.00000</td>\n",
              "    </tr>\n",
              "    <tr>\n",
              "      <th>50%</th>\n",
              "      <td>2500.500000</td>\n",
              "      <td>50.000000</td>\n",
              "      <td>849.000000</td>\n",
              "      <td>284.000000</td>\n",
              "      <td>2.00000</td>\n",
              "    </tr>\n",
              "    <tr>\n",
              "      <th>75%</th>\n",
              "      <td>3750.250000</td>\n",
              "      <td>75.000000</td>\n",
              "      <td>925.000000</td>\n",
              "      <td>390.000000</td>\n",
              "      <td>3.00000</td>\n",
              "    </tr>\n",
              "    <tr>\n",
              "      <th>max</th>\n",
              "      <td>5000.000000</td>\n",
              "      <td>100.000000</td>\n",
              "      <td>999.000000</td>\n",
              "      <td>704000.000000</td>\n",
              "      <td>2000.00000</td>\n",
              "    </tr>\n",
              "  </tbody>\n",
              "</table>\n",
              "</div>\n",
              "      <button class=\"colab-df-convert\" onclick=\"convertToInteractive('df-13cf32fb-0062-4c50-9eac-43fbd6ea68ad')\"\n",
              "              title=\"Convert this dataframe to an interactive table.\"\n",
              "              style=\"display:none;\">\n",
              "        \n",
              "  <svg xmlns=\"http://www.w3.org/2000/svg\" height=\"24px\"viewBox=\"0 0 24 24\"\n",
              "       width=\"24px\">\n",
              "    <path d=\"M0 0h24v24H0V0z\" fill=\"none\"/>\n",
              "    <path d=\"M18.56 5.44l.94 2.06.94-2.06 2.06-.94-2.06-.94-.94-2.06-.94 2.06-2.06.94zm-11 1L8.5 8.5l.94-2.06 2.06-.94-2.06-.94L8.5 2.5l-.94 2.06-2.06.94zm10 10l.94 2.06.94-2.06 2.06-.94-2.06-.94-.94-2.06-.94 2.06-2.06.94z\"/><path d=\"M17.41 7.96l-1.37-1.37c-.4-.4-.92-.59-1.43-.59-.52 0-1.04.2-1.43.59L10.3 9.45l-7.72 7.72c-.78.78-.78 2.05 0 2.83L4 21.41c.39.39.9.59 1.41.59.51 0 1.02-.2 1.41-.59l7.78-7.78 2.81-2.81c.8-.78.8-2.07 0-2.86zM5.41 20L4 18.59l7.72-7.72 1.47 1.35L5.41 20z\"/>\n",
              "  </svg>\n",
              "      </button>\n",
              "      \n",
              "  <style>\n",
              "    .colab-df-container {\n",
              "      display:flex;\n",
              "      flex-wrap:wrap;\n",
              "      gap: 12px;\n",
              "    }\n",
              "\n",
              "    .colab-df-convert {\n",
              "      background-color: #E8F0FE;\n",
              "      border: none;\n",
              "      border-radius: 50%;\n",
              "      cursor: pointer;\n",
              "      display: none;\n",
              "      fill: #1967D2;\n",
              "      height: 32px;\n",
              "      padding: 0 0 0 0;\n",
              "      width: 32px;\n",
              "    }\n",
              "\n",
              "    .colab-df-convert:hover {\n",
              "      background-color: #E2EBFA;\n",
              "      box-shadow: 0px 1px 2px rgba(60, 64, 67, 0.3), 0px 1px 3px 1px rgba(60, 64, 67, 0.15);\n",
              "      fill: #174EA6;\n",
              "    }\n",
              "\n",
              "    [theme=dark] .colab-df-convert {\n",
              "      background-color: #3B4455;\n",
              "      fill: #D2E3FC;\n",
              "    }\n",
              "\n",
              "    [theme=dark] .colab-df-convert:hover {\n",
              "      background-color: #434B5C;\n",
              "      box-shadow: 0px 1px 3px 1px rgba(0, 0, 0, 0.15);\n",
              "      filter: drop-shadow(0px 1px 2px rgba(0, 0, 0, 0.3));\n",
              "      fill: #FFFFFF;\n",
              "    }\n",
              "  </style>\n",
              "\n",
              "      <script>\n",
              "        const buttonEl =\n",
              "          document.querySelector('#df-13cf32fb-0062-4c50-9eac-43fbd6ea68ad button.colab-df-convert');\n",
              "        buttonEl.style.display =\n",
              "          google.colab.kernel.accessAllowed ? 'block' : 'none';\n",
              "\n",
              "        async function convertToInteractive(key) {\n",
              "          const element = document.querySelector('#df-13cf32fb-0062-4c50-9eac-43fbd6ea68ad');\n",
              "          const dataTable =\n",
              "            await google.colab.kernel.invokeFunction('convertToInteractive',\n",
              "                                                     [key], {});\n",
              "          if (!dataTable) return;\n",
              "\n",
              "          const docLinkHtml = 'Like what you see? Visit the ' +\n",
              "            '<a target=\"_blank\" href=https://colab.research.google.com/notebooks/data_table.ipynb>data table notebook</a>'\n",
              "            + ' to learn more about interactive tables.';\n",
              "          element.innerHTML = '';\n",
              "          dataTable['output_type'] = 'display_data';\n",
              "          await google.colab.output.renderOutput(dataTable, element);\n",
              "          const docLink = document.createElement('div');\n",
              "          docLink.innerHTML = docLinkHtml;\n",
              "          element.appendChild(docLink);\n",
              "        }\n",
              "      </script>\n",
              "    </div>\n",
              "  </div>\n",
              "  "
            ],
            "text/plain": [
              "          order_id      shop_id      user_id   order_amount  total_items\n",
              "count  5000.000000  5000.000000  5000.000000    5000.000000   5000.00000\n",
              "mean   2500.500000    50.078800   849.092400    3145.128000      8.78720\n",
              "std    1443.520003    29.006118    87.798982   41282.539349    116.32032\n",
              "min       1.000000     1.000000   607.000000      90.000000      1.00000\n",
              "25%    1250.750000    24.000000   775.000000     163.000000      1.00000\n",
              "50%    2500.500000    50.000000   849.000000     284.000000      2.00000\n",
              "75%    3750.250000    75.000000   925.000000     390.000000      3.00000\n",
              "max    5000.000000   100.000000   999.000000  704000.000000   2000.00000"
            ]
          },
          "metadata": {},
          "execution_count": 2
        }
      ]
    },
    {
      "cell_type": "markdown",
      "source": [
        "## Order amount"
      ],
      "metadata": {
        "id": "tTxT80ZzZxGT"
      }
    },
    {
      "cell_type": "code",
      "metadata": {
        "colab": {
          "base_uri": "https://localhost:8080/"
        },
        "id": "56XlUXFWSWBU",
        "outputId": "4e116b30-be91-45c1-a433-c77defd25843"
      },
      "source": [
        "data.order_amount.describe()"
      ],
      "execution_count": 3,
      "outputs": [
        {
          "output_type": "execute_result",
          "data": {
            "text/plain": [
              "count      5000.000000\n",
              "mean       3145.128000\n",
              "std       41282.539349\n",
              "min          90.000000\n",
              "25%         163.000000\n",
              "50%         284.000000\n",
              "75%         390.000000\n",
              "max      704000.000000\n",
              "Name: order_amount, dtype: float64"
            ]
          },
          "metadata": {},
          "execution_count": 3
        }
      ]
    },
    {
      "cell_type": "code",
      "source": [
        "plt.hist(data.order_amount,density=1)\n",
        "plt.xlabel('order amount')\n",
        "plt.ylabel('Probability')\n",
        "plt.title('Histgram of order amount')\n",
        "plt.show()"
      ],
      "metadata": {
        "colab": {
          "base_uri": "https://localhost:8080/",
          "height": 294
        },
        "id": "saR3_ltSKA9O",
        "outputId": "d0a5f46c-59f3-45f8-eda2-a0fa779085c1"
      },
      "execution_count": 4,
      "outputs": [
        {
          "output_type": "display_data",
          "data": {
            "image/png": "[encoded data removed]",
            "text/plain": [
              "<Figure size 432x288 with 1 Axes>"
            ]
          },
          "metadata": {
            "needs_background": "light"
          }
        }
      ]
    },
    {
      "cell_type": "code",
      "source": [
        "plt.boxplot(data.order_amount)\n",
        "plt.show()"
      ],
      "metadata": {
        "colab": {
          "base_uri": "https://localhost:8080/",
          "height": 264
        },
        "id": "QtvC-YW5ZEhw",
        "outputId": "2b8e5006-b642-4af5-de6f-901438b801a7"
      },
      "execution_count": 5,
      "outputs": [
        {
          "output_type": "display_data",
          "data": {
            "image/png": "[encoded data removed]",
            "text/plain": [
              "<Figure size 432x288 with 1 Axes>"
            ]
          },
          "metadata": {
            "needs_background": "light"
          }
        }
      ]
    },
    {
      "cell_type": "markdown",
      "metadata": {
        "id": "r7ubWRA4SWBV"
      },
      "source": [
        "Since the standard deviation of the order amount is as high as \\$41282 and 75% of the order amount is not greater than \\$390, the AOV of \\$3145.13 might be affected by the outliers like \\$704000. "
      ]
    },
    {
      "cell_type": "markdown",
      "metadata": {
        "id": "ZSBAXUikWTrD"
      },
      "source": [
        "## Total items"
      ]
    },
    {
      "cell_type": "code",
      "metadata": {
        "colab": {
          "base_uri": "https://localhost:8080/"
        },
        "id": "iBika8rASWBW",
        "outputId": "e74bb96c-ba3e-440a-f94b-53e1f0199624"
      },
      "source": [
        "data.total_items.describe()"
      ],
      "execution_count": 6,
      "outputs": [
        {
          "output_type": "execute_result",
          "data": {
            "text/plain": [
              "count    5000.00000\n",
              "mean        8.78720\n",
              "std       116.32032\n",
              "min         1.00000\n",
              "25%         1.00000\n",
              "50%         2.00000\n",
              "75%         3.00000\n",
              "max      2000.00000\n",
              "Name: total_items, dtype: float64"
            ]
          },
          "metadata": {},
          "execution_count": 6
        }
      ]
    },
    {
      "cell_type": "code",
      "source": [
        "plt.hist(data.total_items,density=1)\n",
        "plt.xlabel('order amount')\n",
        "plt.ylabel('Probability')\n",
        "plt.title('Histgram of order amount')\n",
        "plt.show()"
      ],
      "metadata": {
        "colab": {
          "base_uri": "https://localhost:8080/",
          "height": 294
        },
        "id": "cEC3PGq8LhRg",
        "outputId": "edaffe7a-a20c-47c1-db77-5be8619789a5"
      },
      "execution_count": 7,
      "outputs": [
        {
          "output_type": "display_data",
          "data": {
            "image/png": "[encoded data removed]",
            "text/plain": [
              "<Figure size 432x288 with 1 Axes>"
            ]
          },
          "metadata": {
            "needs_background": "light"
          }
        }
      ]
    },
    {
      "cell_type": "code",
      "source": [
        "plt.boxplot(data.total_items)\n",
        "plt.show()"
      ],
      "metadata": {
        "colab": {
          "base_uri": "https://localhost:8080/",
          "height": 264
        },
        "id": "muQvB_iJaB5A",
        "outputId": "8a9e76ab-8787-49dd-d8e5-25f747c00297"
      },
      "execution_count": 8,
      "outputs": [
        {
          "output_type": "display_data",
          "data": {
            "image/png": "[encoded data removed]",
            "text/plain": [
              "<Figure size 432x288 with 1 Axes>"
            ]
          },
          "metadata": {
            "needs_background": "light"
          }
        }
      ]
    },
    {
      "cell_type": "markdown",
      "metadata": {
        "id": "960_hDGnSWBW"
      },
      "source": [
        "The outliers of order amount like \\$704000 could be result from large orders with 2000 items."
      ]
    },
    {
      "cell_type": "markdown",
      "metadata": {
        "id": "Cm3asAJmWVjC"
      },
      "source": [
        "### Plot the orders(total items, order amount) to find the distribution and outliers."
      ]
    },
    {
      "cell_type": "code",
      "metadata": {
        "colab": {
          "base_uri": "https://localhost:8080/",
          "height": 294
        },
        "id": "ha5i1In9SWBW",
        "outputId": "bf2486cf-c305-413f-b0ac-5657dd9451a2"
      },
      "source": [
        "plt.scatter(data.total_items, data.order_amount)\n",
        "plt.xlabel('total items')\n",
        "plt.ylabel('order amount')\n",
        "plt.title(\"Distribution of total items and order amount\")\n",
        "plt.show()"
      ],
      "execution_count": 9,
      "outputs": [
        {
          "output_type": "display_data",
          "data": {
            "image/png": "[encoded data removed]",
            "text/plain": [
              "<Figure size 432x288 with 1 Axes>"
            ]
          },
          "metadata": {
            "needs_background": "light"
          }
        }
      ]
    },
    {
      "cell_type": "code",
      "source": [
        "plt.scatter(data[data.total_items<250].total_items, data[data.total_items<250].order_amount)\n",
        "plt.xlabel('total items')\n",
        "plt.ylabel('order amount')\n",
        "plt.title(\"Distribution of total items and order amount for orders with less items\")\n",
        "plt.show()"
      ],
      "metadata": {
        "colab": {
          "base_uri": "https://localhost:8080/",
          "height": 294
        },
        "id": "LwUoKm06M7Nl",
        "outputId": "23822bf2-0367-47db-ae9e-d1956301ec06"
      },
      "execution_count": 10,
      "outputs": [
        {
          "output_type": "display_data",
          "data": {
            "image/png": "[encoded data removed]",
            "text/plain": [
              "<Figure size 432x288 with 1 Axes>"
            ]
          },
          "metadata": {
            "needs_background": "light"
          }
        }
      ]
    },
    {
      "cell_type": "markdown",
      "metadata": {
        "id": "IoMdbcfnSWBX"
      },
      "source": [
        "According to the scatter plot of items and amount of each order, we can see that there are some orders with 2000 items and large amount, which made the AOV of \\$3145.13 unreasonable.\n",
        "\n",
        "In addition, for most orders with less items, we found two linear relationships between order amount and total items, the upper line represents expensive shoes that one item can cost over $20,000 and the lower line represents cheaper shoes that cost around hundreds dollars each item.\n"
      ]
    },
    {
      "cell_type": "markdown",
      "source": [
        "## a"
      ],
      "metadata": {
        "id": "N78YqBxSYNF7"
      }
    },
    {
      "cell_type": "markdown",
      "source": [
        "All in all, the problem of the calculation of AOV of \\$3145.13 is that there are two types of outliers in order amount distribution: orders with large amount of items and orders with expensive items, which can be studied in further.\n",
        "\n",
        "A better way to evaluate AOV is trimmed mean of order value that removes a small designated percentage of the largest and smallest values before calculating the mean, which helps eliminate the influence of outliers. For this data, the 10% trimmed mean of order value is \\$287.39."
      ],
      "metadata": {
        "id": "6UfCRmfxYyTx"
      }
    },
    {
      "cell_type": "markdown",
      "metadata": {
        "id": "5-IR7qSVSWBX"
      },
      "source": [
        "## b"
      ]
    },
    {
      "cell_type": "markdown",
      "metadata": {
        "id": "vQyl5lLbSWBX"
      },
      "source": [
        "The metric I would report for this dataset is central tendency (trimmed mean, median and mode), which can be used for analysis in together and help eliminate the influence of outliers."
      ]
    },
    {
      "cell_type": "markdown",
      "metadata": {
        "id": "5s0eL9zTSWBX"
      },
      "source": [
        "## c"
      ]
    },
    {
      "cell_type": "code",
      "metadata": {
        "id": "vK1Nav2gSWBX",
        "outputId": "b9b28d20-ddb3-4aab-b81b-a065c3c39af7",
        "colab": {
          "base_uri": "https://localhost:8080/"
        }
      },
      "source": [
        "from scipy import stats\n",
        "stats.trim_mean(data.order_amount, 0.1)"
      ],
      "execution_count": 11,
      "outputs": [
        {
          "output_type": "execute_result",
          "data": {
            "text/plain": [
              "287.39075"
            ]
          },
          "metadata": {},
          "execution_count": 11
        }
      ]
    },
    {
      "cell_type": "code",
      "source": [
        "data.order_amount.describe()"
      ],
      "metadata": {
        "colab": {
          "base_uri": "https://localhost:8080/"
        },
        "id": "y5fRPE14JtzT",
        "outputId": "6931caca-d1d5-4e1b-bf0f-85f8b2584e4d"
      },
      "execution_count": 12,
      "outputs": [
        {
          "output_type": "execute_result",
          "data": {
            "text/plain": [
              "count      5000.000000\n",
              "mean       3145.128000\n",
              "std       41282.539349\n",
              "min          90.000000\n",
              "25%         163.000000\n",
              "50%         284.000000\n",
              "75%         390.000000\n",
              "max      704000.000000\n",
              "Name: order_amount, dtype: float64"
            ]
          },
          "metadata": {},
          "execution_count": 12
        }
      ]
    },
    {
      "cell_type": "code",
      "source": [
        "data.order_amount.mode()[0]"
      ],
      "metadata": {
        "colab": {
          "base_uri": "https://localhost:8080/"
        },
        "id": "0Y_EQpQKJmVR",
        "outputId": "001f37e1-a97f-49fc-dbf0-bf395d2842de"
      },
      "execution_count": 13,
      "outputs": [
        {
          "output_type": "execute_result",
          "data": {
            "text/plain": [
              "153"
            ]
          },
          "metadata": {},
          "execution_count": 13
        }
      ]
    },
    {
      "cell_type": "markdown",
      "metadata": {
        "id": "-uf4_agESWBX"
      },
      "source": [
        "The value of 10% trimmed mean of order value is \\$287.39, median is \\$284 and mode is \\$153."
      ]
    },
    {
      "cell_type": "markdown",
      "metadata": {
        "id": "zYq8CImISWBY"
      },
      "source": [
        "# Q2"
      ]
    },
    {
      "cell_type": "markdown",
      "metadata": {
        "id": "KoPxAx29SWBY"
      },
      "source": [
        "## a"
      ]
    },
    {
      "cell_type": "markdown",
      "metadata": {
        "id": "ct7Ot2aKSWBY"
      },
      "source": [
        "SELECT COUNT(OrderID)\n",
        "\n",
        "FROM Orders JOIN Shippers ON Orders.ShipperID = Shippers.ShipperID\n",
        "\n",
        "WHERE Shippers.ShipperName = \"Speedy Express\";"
      ]
    },
    {
      "cell_type": "markdown",
      "metadata": {
        "id": "9BKFQS9tSWBY"
      },
      "source": [
        "**output:**\n",
        "\n",
        "54"
      ]
    },
    {
      "cell_type": "markdown",
      "metadata": {
        "id": "8vGRrJqHSWBY"
      },
      "source": [
        "## b"
      ]
    },
    {
      "cell_type": "markdown",
      "metadata": {
        "id": "-DeXBUVUSWBY"
      },
      "source": [
        "SELECT Employees.LastName, COUNT(Orders.OrderID) AS OrderNum\n",
        "\n",
        "FROM Orders JOIN Employees ON Orders.EmployeeID = Employees.EmployeeID\n",
        "\n",
        "GROUP BY Employees.LastName \n",
        "\n",
        "ORDER BY OrderNum DESC\n",
        "\n",
        "LIMIT 1;"
      ]
    },
    {
      "cell_type": "markdown",
      "metadata": {
        "id": "3KNh-5QiSWBY"
      },
      "source": [
        "**output:**\n",
        "\n",
        "Peacock."
      ]
    },
    {
      "cell_type": "markdown",
      "metadata": {
        "id": "myqVdiwDSWBZ"
      },
      "source": [
        "## c"
      ]
    },
    {
      "cell_type": "markdown",
      "metadata": {
        "id": "4H1V5mW0SWBZ"
      },
      "source": [
        "SELECT Products.ProductName, SUM(OrderDetails.Quantity) AS OrderQuantity\n",
        "\n",
        "FROM Orders JOIN Customers ON Orders.CustomerID = Customers.CustomerID \n",
        "\n",
        "JOIN OrderDetails ON OrderDetails.OrderID = Orders.OrderID \n",
        "\n",
        "JOIN Products ON Products.ProductID = OrderDetails.ProductID \n",
        "\n",
        "WHERE Customers.Country = 'Germany'\n",
        "\n",
        "GROUP BY OrderDetails.ProductID\n",
        "\n",
        "ORDER BY OrderQuantity DESC\n",
        "\n",
        "LIMIT 1;\n"
      ]
    },
    {
      "cell_type": "markdown",
      "metadata": {
        "id": "JebAMKu-SWBZ"
      },
      "source": [
        "**output:**\n",
        "\n",
        "Boston Crab Meat."
      ]
    }
  ]
}